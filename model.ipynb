{
 "cells": [
  {
   "cell_type": "markdown",
   "metadata": {},
   "source": [
    "Code Modified From: https://youtu.be/PuZY9q-aKLw"
   ]
  },
  {
   "cell_type": "code",
   "execution_count": 1,
   "metadata": {},
   "outputs": [],
   "source": [
    "import numpy as np\n",
    "import matplotlib.pyplot as plt \n",
    "\n",
    "from preprocess import load_data\n",
    "\n",
    "from sklearn.preprocessing import MinMaxScaler\n",
    "\n",
    "from tensorflow.keras.models import Sequential\n",
    "from tensorflow.keras.layers import Dense, LSTM, Dropout"
   ]
  },
  {
   "cell_type": "code",
   "execution_count": 2,
   "metadata": {},
   "outputs": [],
   "source": [
    "item = \"SPONGE\"\n",
    "\n",
    "data_set = load_data()\n",
    "data = data_set[item]\n",
    "\n",
    "for i in range(0, len(data)):\n",
    "    if data[\"buy_volume\"][i] == 0 and data[\"sell_volume\"][i] == 0:\n",
    "        data = data.drop(i)"
   ]
  },
  {
   "cell_type": "code",
   "execution_count": 3,
   "metadata": {},
   "outputs": [
    {
     "name": "stdout",
     "output_type": "stream",
     "text": [
      "            Date  sell_price  sell_volume  sell_moving_week  sell_orders  \\\n",
      "0  2024-02-14-23   42.406750    5747081.0         7480195.0        132.0   \n",
      "1  2024-02-15-00   42.487058    5769887.0         7532305.0        133.0   \n",
      "2  2024-02-15-01   42.736993    5831963.0         7580315.0        135.0   \n",
      "3  2024-02-15-02   42.411493    5720894.0         7620649.0        133.0   \n",
      "4  2024-02-15-03   42.315665    5657846.0         7683697.0        130.0   \n",
      "\n",
      "   buy_price  buy_volume  buy_moving_week  buy_orders  max_sell_price  \\\n",
      "0  59.985276    332194.0         967014.0       100.0            42.5   \n",
      "1  65.142329    322401.0         976807.0        98.0            42.6   \n",
      "2  67.978409    312956.0         986083.0        94.0            42.8   \n",
      "3  67.700000    321901.0         987142.0        92.0            42.6   \n",
      "4  67.400000    330600.0         988292.0        99.0            42.4   \n",
      "\n",
      "   min_buy_price  \n",
      "0           59.8  \n",
      "1           60.0  \n",
      "2           65.1  \n",
      "3           67.7  \n",
      "4           67.4  \n",
      "(976, 11)\n"
     ]
    }
   ],
   "source": [
    "print(data.head())\n",
    "print(data.shape)"
   ]
  },
  {
   "cell_type": "code",
   "execution_count": 4,
   "metadata": {},
   "outputs": [
    {
     "name": "stdout",
     "output_type": "stream",
     "text": [
      "(976,)\n"
     ]
    }
   ],
   "source": [
    "scaler = MinMaxScaler(feature_range=(0, 1))\n",
    "\n",
    "scaled_data = scaler.fit_transform(data['sell_price'].values.reshape(-1, 1))\n",
    "scaled_data = scaled_data.flatten()\n",
    "print(scaled_data.shape)"
   ]
  },
  {
   "cell_type": "code",
   "execution_count": 22,
   "metadata": {},
   "outputs": [
    {
     "name": "stdout",
     "output_type": "stream",
     "text": [
      "780\n",
      "196\n",
      "(732, 48)\n",
      "(732,)\n",
      "(196, 48)\n",
      "(196,)\n"
     ]
    }
   ],
   "source": [
    "prediction_hours = 48\n",
    "train_test_split = 0.8\n",
    "\n",
    "len_train = int(len(scaled_data) * train_test_split)  \n",
    "\n",
    "x_train = []\n",
    "y_train = []\n",
    "\n",
    "x_test = [] \n",
    "y_test = []\n",
    "\n",
    "for i in range(prediction_hours, len_train):\n",
    "    x_train.append(scaled_data[i - prediction_hours:i])\n",
    "    y_train.append(scaled_data[i]) \n",
    "\n",
    "for i in range(len_train, len(scaled_data)):\n",
    "    x_test.append(scaled_data[i - prediction_hours:i])\n",
    "    y_test.append(scaled_data[i])\n",
    "\n",
    "x_train, y_train, x_test, y_test = np.array(x_train), np.array(y_train), np.array(x_test), np.array(y_test)\n",
    "print(x_train.shape)\n",
    "print(y_train.shape)\n",
    "print(x_test.shape) \n",
    "print(y_test.shape)\n"
   ]
  },
  {
   "cell_type": "code",
   "execution_count": 33,
   "metadata": {},
   "outputs": [],
   "source": [
    "model = Sequential()\n",
    "\n",
    "model.add(LSTM(units=50, return_sequences=True, input_shape=(x_train.shape[1], 1)))\n",
    "model.add(Dropout(0.2))\n",
    "model.add(LSTM(units=50, return_sequences=True))\n",
    "model.add(Dropout(0.2))\n",
    "model.add(LSTM(units=50))\n",
    "model.add(Dropout(0.2))\n",
    "model.add(Dense(units=1))"
   ]
  },
  {
   "cell_type": "code",
   "execution_count": 34,
   "metadata": {},
   "outputs": [
    {
     "name": "stdout",
     "output_type": "stream",
     "text": [
      "Model: \"sequential_3\"\n",
      "_________________________________________________________________\n",
      " Layer (type)                Output Shape              Param #   \n",
      "=================================================================\n",
      " lstm_9 (LSTM)               (None, 48, 50)            10400     \n",
      "                                                                 \n",
      " dropout_9 (Dropout)         (None, 48, 50)            0         \n",
      "                                                                 \n",
      " lstm_10 (LSTM)              (None, 48, 50)            20200     \n",
      "                                                                 \n",
      " dropout_10 (Dropout)        (None, 48, 50)            0         \n",
      "                                                                 \n",
      " lstm_11 (LSTM)              (None, 50)                20200     \n",
      "                                                                 \n",
      " dropout_11 (Dropout)        (None, 50)                0         \n",
      "                                                                 \n",
      " dense_3 (Dense)             (None, 1)                 51        \n",
      "                                                                 \n",
      "=================================================================\n",
      "Total params: 50,851\n",
      "Trainable params: 50,851\n",
      "Non-trainable params: 0\n",
      "_________________________________________________________________\n"
     ]
    }
   ],
   "source": [
    "model.compile(optimizer='adam', loss='mean_squared_error')\n",
    "model.summary()"
   ]
  },
  {
   "cell_type": "code",
   "execution_count": 35,
   "metadata": {},
   "outputs": [
    {
     "name": "stdout",
     "output_type": "stream",
     "text": [
      "Epoch 1/50\n",
      "23/23 [==============================] - 3s 16ms/step - loss: 0.0969\n",
      "Epoch 2/50\n",
      "23/23 [==============================] - 0s 14ms/step - loss: 0.0189\n",
      "Epoch 3/50\n",
      "23/23 [==============================] - 0s 14ms/step - loss: 0.0148\n",
      "Epoch 4/50\n",
      "23/23 [==============================] - 0s 14ms/step - loss: 0.0138\n",
      "Epoch 5/50\n",
      "23/23 [==============================] - 0s 14ms/step - loss: 0.0119\n",
      "Epoch 6/50\n",
      "23/23 [==============================] - 0s 16ms/step - loss: 0.0120\n",
      "Epoch 7/50\n",
      "23/23 [==============================] - 0s 16ms/step - loss: 0.0118\n",
      "Epoch 8/50\n",
      "23/23 [==============================] - 0s 14ms/step - loss: 0.0113\n",
      "Epoch 9/50\n",
      "23/23 [==============================] - 0s 15ms/step - loss: 0.0117\n",
      "Epoch 10/50\n",
      "23/23 [==============================] - 0s 14ms/step - loss: 0.0114\n",
      "Epoch 11/50\n",
      "23/23 [==============================] - 0s 14ms/step - loss: 0.0107\n",
      "Epoch 12/50\n",
      "23/23 [==============================] - 0s 14ms/step - loss: 0.0101\n",
      "Epoch 13/50\n",
      "23/23 [==============================] - 0s 14ms/step - loss: 0.0095\n",
      "Epoch 14/50\n",
      "23/23 [==============================] - 0s 14ms/step - loss: 0.0101\n",
      "Epoch 15/50\n",
      "23/23 [==============================] - 0s 14ms/step - loss: 0.0103\n",
      "Epoch 16/50\n",
      "23/23 [==============================] - 0s 14ms/step - loss: 0.0103\n",
      "Epoch 17/50\n",
      "23/23 [==============================] - 0s 14ms/step - loss: 0.0102\n",
      "Epoch 18/50\n",
      "23/23 [==============================] - 0s 13ms/step - loss: 0.0111\n",
      "Epoch 19/50\n",
      "23/23 [==============================] - 0s 14ms/step - loss: 0.0098\n",
      "Epoch 20/50\n",
      "23/23 [==============================] - 0s 14ms/step - loss: 0.0094\n",
      "Epoch 21/50\n",
      "23/23 [==============================] - 0s 14ms/step - loss: 0.0100\n",
      "Epoch 22/50\n",
      "23/23 [==============================] - 0s 14ms/step - loss: 0.0096\n",
      "Epoch 23/50\n",
      "23/23 [==============================] - 0s 14ms/step - loss: 0.0097\n",
      "Epoch 24/50\n",
      "23/23 [==============================] - 0s 14ms/step - loss: 0.0091\n",
      "Epoch 25/50\n",
      "23/23 [==============================] - 0s 15ms/step - loss: 0.0087\n",
      "Epoch 26/50\n",
      "23/23 [==============================] - 0s 13ms/step - loss: 0.0099\n",
      "Epoch 27/50\n",
      "23/23 [==============================] - 0s 13ms/step - loss: 0.0095\n",
      "Epoch 28/50\n",
      "23/23 [==============================] - 0s 14ms/step - loss: 0.0087\n",
      "Epoch 29/50\n",
      "23/23 [==============================] - 0s 13ms/step - loss: 0.0078\n",
      "Epoch 30/50\n",
      "23/23 [==============================] - 0s 13ms/step - loss: 0.0088\n",
      "Epoch 31/50\n",
      "23/23 [==============================] - 0s 14ms/step - loss: 0.0087\n",
      "Epoch 32/50\n",
      "23/23 [==============================] - 0s 14ms/step - loss: 0.0077\n",
      "Epoch 33/50\n",
      "23/23 [==============================] - 0s 13ms/step - loss: 0.0074\n",
      "Epoch 34/50\n",
      "23/23 [==============================] - 0s 14ms/step - loss: 0.0086\n",
      "Epoch 35/50\n",
      "23/23 [==============================] - 0s 15ms/step - loss: 0.0079\n",
      "Epoch 36/50\n",
      "23/23 [==============================] - 0s 15ms/step - loss: 0.0075\n",
      "Epoch 37/50\n",
      "23/23 [==============================] - 0s 14ms/step - loss: 0.0069\n",
      "Epoch 38/50\n",
      "23/23 [==============================] - 0s 14ms/step - loss: 0.0073\n",
      "Epoch 39/50\n",
      "23/23 [==============================] - 0s 14ms/step - loss: 0.0069\n",
      "Epoch 40/50\n",
      "23/23 [==============================] - 0s 14ms/step - loss: 0.0081\n",
      "Epoch 41/50\n",
      "23/23 [==============================] - 0s 15ms/step - loss: 0.0074\n",
      "Epoch 42/50\n",
      "23/23 [==============================] - 0s 15ms/step - loss: 0.0069\n",
      "Epoch 43/50\n",
      "23/23 [==============================] - 0s 14ms/step - loss: 0.0070\n",
      "Epoch 44/50\n",
      "23/23 [==============================] - 0s 16ms/step - loss: 0.0067\n",
      "Epoch 45/50\n",
      "23/23 [==============================] - 0s 13ms/step - loss: 0.0067\n",
      "Epoch 46/50\n",
      "23/23 [==============================] - 0s 13ms/step - loss: 0.0066\n",
      "Epoch 47/50\n",
      "23/23 [==============================] - 0s 13ms/step - loss: 0.0066\n",
      "Epoch 48/50\n",
      "23/23 [==============================] - 0s 14ms/step - loss: 0.0068\n",
      "Epoch 49/50\n",
      "23/23 [==============================] - 0s 13ms/step - loss: 0.0062\n",
      "Epoch 50/50\n",
      "23/23 [==============================] - 0s 13ms/step - loss: 0.0065\n"
     ]
    },
    {
     "data": {
      "text/plain": [
       "<keras.callbacks.History at 0x19b7b46ba00>"
      ]
     },
     "execution_count": 35,
     "metadata": {},
     "output_type": "execute_result"
    }
   ],
   "source": [
    "model.fit(x_train, y_train, epochs=25, batch_size=32, verbose=1)"
   ]
  },
  {
   "cell_type": "code",
   "execution_count": 36,
   "metadata": {},
   "outputs": [
    {
     "name": "stdout",
     "output_type": "stream",
     "text": [
      "7/7 [==============================] - 1s 6ms/step\n"
     ]
    }
   ],
   "source": [
    "predicted = model.predict(x_test)\n",
    "predicted = scaler.inverse_transform(predicted)"
   ]
  },
  {
   "cell_type": "code",
   "execution_count": 37,
   "metadata": {},
   "outputs": [
    {
     "name": "stdout",
     "output_type": "stream",
     "text": [
      "(196, 1)\n",
      "(196,)\n"
     ]
    }
   ],
   "source": [
    "print(predicted.shape)\n",
    "print(y_test.shape)"
   ]
  },
  {
   "cell_type": "code",
   "execution_count": 38,
   "metadata": {},
   "outputs": [
    {
     "data": {
      "image/png": "[encoded data removed]",
      "text/plain": [
       "<Figure size 640x480 with 1 Axes>"
      ]
     },
     "metadata": {},
     "output_type": "display_data"
    }
   ],
   "source": [
    "plt.plot(y_test, color='blue', label=f\"Actual {item} Price\")\n",
    "plt.plot(predicted, color='red', label=f\"Predicted {item} Price\")\n",
    "plt.title(f\"{item} Price Prediction\")\n",
    "plt.xlabel('Time')\n",
    "plt.ylabel(f\"{item} Price\")\n",
    "plt.legend()\n",
    "plt.show()\n"
   ]
  }
 ],
 "metadata": {
  "kernelspec": {
   "display_name": "Python 3",
   "language": "python",
   "name": "python3"
  },
  "language_info": {
   "codemirror_mode": {
    "name": "ipython",
    "version": 3
   },
   "file_extension": ".py",
   "mimetype": "text/x-python",
   "name": "python",
   "nbconvert_exporter": "python",
   "pygments_lexer": "ipython3",
   "version": "3.10.11"
  }
 },
 "nbformat": 4,
 "nbformat_minor": 2
}
